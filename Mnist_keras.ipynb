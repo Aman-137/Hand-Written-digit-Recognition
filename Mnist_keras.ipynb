{
 "cells": [
  {
   "cell_type": "code",
   "execution_count": 15,
   "metadata": {},
   "outputs": [],
   "source": [
    "import numpy as np\n",
    "import tensorflow as tf\n",
    "from tensorflow import keras\n",
    "from tensorflow.keras import layers\n",
    "import matplotlib.pyplot as plt"
   ]
  },
  {
   "cell_type": "code",
   "execution_count": 2,
   "metadata": {},
   "outputs": [],
   "source": [
    "num_classes = 10\n",
    "input_shape = (28, 28, 1)\n",
    "\n",
    "(x_train, y_train), (x_test, y_test) = keras.datasets.mnist.load_data()"
   ]
  },
  {
   "cell_type": "code",
   "execution_count": 3,
   "metadata": {},
   "outputs": [
    {
     "name": "stdout",
     "output_type": "stream",
     "text": [
      "x_train shape: (60000, 28, 28, 1)\n",
      "60000 train samples\n",
      "10000 test smaples\n"
     ]
    }
   ],
   "source": [
    "# scale image to [0, 1] range\n",
    "x_train = x_train.astype(\"float32\") / 255\n",
    "x_test = x_test.astype(\"float32\") / 255\n",
    "\n",
    "# reshaping of image(28, 28, 1)\n",
    "x_train = np.expand_dims(x_train, -1)\n",
    "x_test = np.expand_dims(x_test, -1)\n",
    "\n",
    "print(\"x_train shape:\", x_train.shape)\n",
    "print(x_train.shape[0], \"train samples\")\n",
    "print(x_test.shape[0], \"test smaples\")\n",
    "\n",
    "# convert class vectors to binary class matrices\n",
    "y_train = keras.utils.to_categorical(y_train, num_classes)\n",
    "y_test = keras.utils.to_categorical(y_test, num_classes)"
   ]
  },
  {
   "cell_type": "code",
   "execution_count": 4,
   "metadata": {},
   "outputs": [
    {
     "name": "stdout",
     "output_type": "stream",
     "text": [
      "WARNING:tensorflow:Please add `keras.layers.InputLayer` instead of `keras.Input` to Sequential model. `keras.Input` is intended to be used by Functional model.\n",
      "Model: \"sequential\"\n",
      "_________________________________________________________________\n",
      "Layer (type)                 Output Shape              Param #   \n",
      "=================================================================\n",
      "conv2d (Conv2D)              (None, 26, 26, 32)        320       \n",
      "_________________________________________________________________\n",
      "max_pooling2d (MaxPooling2D) (None, 13, 13, 32)        0         \n",
      "_________________________________________________________________\n",
      "conv2d_1 (Conv2D)            (None, 11, 11, 64)        18496     \n",
      "_________________________________________________________________\n",
      "max_pooling2d_1 (MaxPooling2 (None, 5, 5, 64)          0         \n",
      "_________________________________________________________________\n",
      "flatten (Flatten)            (None, 1600)              0         \n",
      "_________________________________________________________________\n",
      "dropout (Dropout)            (None, 1600)              0         \n",
      "_________________________________________________________________\n",
      "dense (Dense)                (None, 10)                16010     \n",
      "=================================================================\n",
      "Total params: 34,826\n",
      "Trainable params: 34,826\n",
      "Non-trainable params: 0\n",
      "_________________________________________________________________\n"
     ]
    }
   ],
   "source": [
    "model = keras.Sequential(\n",
    "    [\n",
    "        keras.Input(shape=input_shape),\n",
    "        layers.Conv2D(32, kernel_size=(3, 3), activation=\"relu\"),\n",
    "        layers.MaxPooling2D(pool_size=(2, 2)),\n",
    "        layers.Conv2D(64, kernel_size=(3, 3), activation=\"relu\"),\n",
    "        layers.MaxPooling2D(pool_size=(2, 2)),\n",
    "        layers.Flatten(),\n",
    "        layers.Dropout(0.2),\n",
    "        layers.Dense(num_classes, activation=\"softmax\"),\n",
    "    ]\n",
    ")\n",
    "\n",
    "model.summary()"
   ]
  },
  {
   "cell_type": "code",
   "execution_count": 6,
   "metadata": {},
   "outputs": [
    {
     "name": "stdout",
     "output_type": "stream",
     "text": [
      "Epoch 1/25\n",
      "540/540 [==============================] - 13s 24ms/step - loss: 0.2843 - accuracy: 0.9164 - val_loss: 0.0755 - val_accuracy: 0.9790\n",
      "Epoch 2/25\n",
      "540/540 [==============================] - 13s 24ms/step - loss: 0.0880 - accuracy: 0.9730 - val_loss: 0.0631 - val_accuracy: 0.9822\n",
      "Epoch 3/25\n",
      "540/540 [==============================] - 13s 24ms/step - loss: 0.0658 - accuracy: 0.9795 - val_loss: 0.0485 - val_accuracy: 0.9870\n",
      "Epoch 4/25\n",
      "540/540 [==============================] - 14s 25ms/step - loss: 0.0523 - accuracy: 0.9836 - val_loss: 0.0455 - val_accuracy: 0.9870\n",
      "Epoch 5/25\n",
      "540/540 [==============================] - 14s 26ms/step - loss: 0.0451 - accuracy: 0.9864 - val_loss: 0.0389 - val_accuracy: 0.9900\n",
      "Epoch 6/25\n",
      "540/540 [==============================] - 14s 25ms/step - loss: 0.0401 - accuracy: 0.9871 - val_loss: 0.0358 - val_accuracy: 0.9897\n",
      "Epoch 7/25\n",
      "540/540 [==============================] - 14s 25ms/step - loss: 0.0346 - accuracy: 0.9894 - val_loss: 0.0390 - val_accuracy: 0.9893\n",
      "Epoch 8/25\n",
      "540/540 [==============================] - 14s 25ms/step - loss: 0.0324 - accuracy: 0.9896 - val_loss: 0.0347 - val_accuracy: 0.9888\n",
      "Epoch 9/25\n",
      "540/540 [==============================] - 14s 26ms/step - loss: 0.0284 - accuracy: 0.9912 - val_loss: 0.0313 - val_accuracy: 0.9908\n",
      "Epoch 10/25\n",
      "540/540 [==============================] - 14s 26ms/step - loss: 0.0263 - accuracy: 0.9914 - val_loss: 0.0316 - val_accuracy: 0.9908\n",
      "Epoch 11/25\n",
      "540/540 [==============================] - 14s 26ms/step - loss: 0.0231 - accuracy: 0.9922 - val_loss: 0.0331 - val_accuracy: 0.9902\n",
      "Epoch 12/25\n",
      "540/540 [==============================] - 14s 26ms/step - loss: 0.0213 - accuracy: 0.9929 - val_loss: 0.0381 - val_accuracy: 0.9893\n",
      "Epoch 13/25\n",
      "540/540 [==============================] - 14s 26ms/step - loss: 0.0200 - accuracy: 0.9929 - val_loss: 0.0335 - val_accuracy: 0.9910\n",
      "Epoch 14/25\n",
      "540/540 [==============================] - 14s 26ms/step - loss: 0.0185 - accuracy: 0.9937 - val_loss: 0.0372 - val_accuracy: 0.9915\n",
      "Epoch 15/25\n",
      "540/540 [==============================] - 14s 26ms/step - loss: 0.0169 - accuracy: 0.9945 - val_loss: 0.0358 - val_accuracy: 0.9897\n",
      "Epoch 16/25\n",
      "540/540 [==============================] - 14s 26ms/step - loss: 0.0154 - accuracy: 0.9951 - val_loss: 0.0340 - val_accuracy: 0.9907\n",
      "Epoch 17/25\n",
      "540/540 [==============================] - 14s 26ms/step - loss: 0.0145 - accuracy: 0.9951 - val_loss: 0.0348 - val_accuracy: 0.9920\n",
      "Epoch 18/25\n",
      "540/540 [==============================] - 14s 26ms/step - loss: 0.0137 - accuracy: 0.9954 - val_loss: 0.0394 - val_accuracy: 0.9892\n",
      "Epoch 19/25\n",
      "540/540 [==============================] - 14s 25ms/step - loss: 0.0130 - accuracy: 0.9955 - val_loss: 0.0337 - val_accuracy: 0.9905\n",
      "Epoch 20/25\n",
      "540/540 [==============================] - 14s 26ms/step - loss: 0.0119 - accuracy: 0.9959 - val_loss: 0.0379 - val_accuracy: 0.9900\n",
      "Epoch 21/25\n",
      "540/540 [==============================] - 14s 26ms/step - loss: 0.0118 - accuracy: 0.9957 - val_loss: 0.0358 - val_accuracy: 0.9913\n",
      "Epoch 22/25\n",
      "540/540 [==============================] - 15s 28ms/step - loss: 0.0106 - accuracy: 0.9963 - val_loss: 0.0394 - val_accuracy: 0.9898\n",
      "Epoch 23/25\n",
      "540/540 [==============================] - 15s 27ms/step - loss: 0.0099 - accuracy: 0.9967 - val_loss: 0.0376 - val_accuracy: 0.9910\n",
      "Epoch 24/25\n",
      "540/540 [==============================] - 14s 26ms/step - loss: 0.0090 - accuracy: 0.9969 - val_loss: 0.0337 - val_accuracy: 0.9918\n",
      "Epoch 25/25\n",
      "540/540 [==============================] - 14s 27ms/step - loss: 0.0094 - accuracy: 0.9968 - val_loss: 0.0334 - val_accuracy: 0.9918\n"
     ]
    }
   ],
   "source": [
    "batch_size = 100\n",
    "epochs = 25\n",
    "\n",
    "model.compile(loss=\"categorical_crossentropy\", optimizer=\"adam\", metrics=[\"accuracy\"])\n",
    "\n",
    "history = model.fit(x_train, y_train, batch_size=batch_size, epochs=epochs, validation_split=0.1)"
   ]
  },
  {
   "cell_type": "code",
   "execution_count": 7,
   "metadata": {},
   "outputs": [
    {
     "name": "stdout",
     "output_type": "stream",
     "text": [
      "Test loss: 0.028322232887148857\n",
      "Test accuracy: 99.19999837875366 %\n"
     ]
    }
   ],
   "source": [
    "score = model.evaluate(x_test, y_test, verbose=0)\n",
    "print(\"Test loss:\", score[0])\n",
    "print(\"Test accuracy:\", score[1] * 100, \"%\")"
   ]
  },
  {
   "cell_type": "code",
   "execution_count": 9,
   "metadata": {},
   "outputs": [
    {
     "name": "stdout",
     "output_type": "stream",
     "text": [
      "INFO:tensorflow:Assets written to: epic_num_reader.model\\assets\n"
     ]
    }
   ],
   "source": [
    "model.save('epic_num_reader.model')"
   ]
  },
  {
   "cell_type": "code",
   "execution_count": 12,
   "metadata": {},
   "outputs": [],
   "source": [
    "new_model = tf.keras.models.load_model('epic_num_reader.model')"
   ]
  },
  {
   "cell_type": "code",
   "execution_count": 13,
   "metadata": {},
   "outputs": [
    {
     "name": "stdout",
     "output_type": "stream",
     "text": [
      "[[3.1811850e-14 6.7769880e-14 5.6438219e-09 ... 1.0000000e+00\n",
      "  5.3265297e-13 5.2760449e-09]\n",
      " [2.2723743e-09 1.4218622e-07 9.9999273e-01 ... 1.0164302e-15\n",
      "  3.1581906e-09 3.4617905e-14]\n",
      " [4.4316106e-11 9.9996102e-01 2.3675717e-08 ... 1.5263215e-05\n",
      "  5.3552185e-07 1.5220065e-08]\n",
      " ...\n",
      " [1.4691653e-20 3.1421267e-14 3.4558081e-20 ... 7.6005799e-12\n",
      "  1.5581679e-10 2.6948863e-11]\n",
      " [5.5481787e-12 2.2118353e-23 3.1556163e-17 ... 4.1637651e-19\n",
      "  3.6837812e-07 1.4934009e-11]\n",
      " [1.5531999e-11 5.0270640e-18 1.0842214e-11 ... 1.5843291e-19\n",
      "  1.3032844e-10 2.0725301e-17]]\n"
     ]
    }
   ],
   "source": [
    "# predictions\n",
    "\n",
    "predictions = new_model.predict([x_test])\n",
    "print(predictions)"
   ]
  },
  {
   "cell_type": "code",
   "execution_count": 17,
   "metadata": {},
   "outputs": [
    {
     "name": "stdout",
     "output_type": "stream",
     "text": [
      "4\n"
     ]
    }
   ],
   "source": [
    "print(np.argmax(predictions[33]))"
   ]
  },
  {
   "cell_type": "code",
   "execution_count": 19,
   "metadata": {},
   "outputs": [
    {
     "data": {
      "image/png": "[encoded data removed]",
      "text/plain": [
       "<Figure size 432x288 with 1 Axes>"
      ]
     },
     "metadata": {
      "needs_background": "light"
     },
     "output_type": "display_data"
    }
   ],
   "source": [
    "plt.imshow(x_test[33])\n",
    "plt.show()"
   ]
  },
  {
   "cell_type": "code",
   "execution_count": 29,
   "metadata": {},
   "outputs": [
    {
     "data": {
      "image/png": "[encoded data removed]",
      "text/plain": [
       "<Figure size 576x432 with 1 Axes>"
      ]
     },
     "metadata": {
      "needs_background": "light"
     },
     "output_type": "display_data"
    }
   ],
   "source": [
    "plt.figure(figsize=[8, 6])\n",
    "plt.plot(history.history['loss'], 'r', linewidth=3.0)\n",
    "plt.plot(history.history['val_loss'], 'b', linewidth=3.0)\n",
    "plt.legend(['Training Loss','Validation Loss'], fontsize = 18)\n",
    "plt.xlabel('Epochs', fontsize=16)\n",
    "plt.ylabel('Loss', fontsize=16)\n",
    "plt.title('Loss Curves', fontsize=16)\n",
    "\n",
    "plt.show()"
   ]
  },
  {
   "cell_type": "code",
   "execution_count": 32,
   "metadata": {},
   "outputs": [
    {
     "data": {
      "image/png": "[encoded data removed]",
      "text/plain": [
       "<Figure size 576x432 with 1 Axes>"
      ]
     },
     "metadata": {
      "needs_background": "light"
     },
     "output_type": "display_data"
    }
   ],
   "source": [
    "plt.figure(figsize=[8, 6])\n",
    "plt.plot(history.history['accuracy'], 'r', linewidth=3.0)\n",
    "plt.plot(history.history['val_accuracy'], 'b', linewidth=3.0)\n",
    "plt.legend(['Training Accuracy','Validation Accuracy'], fontsize = 18)\n",
    "plt.xlabel('Epochs', fontsize=16)\n",
    "plt.ylabel('Accuracy', fontsize=16)\n",
    "plt.title('Accuracy Curves', fontsize=16)\n",
    "\n",
    "plt.show()"
   ]
  },
  {
   "cell_type": "code",
   "execution_count": null,
   "metadata": {},
   "outputs": [],
   "source": []
  }
 ],
 "metadata": {
  "kernelspec": {
   "display_name": "Python 3",
   "language": "python",
   "name": "python3"
  },
  "language_info": {
   "codemirror_mode": {
    "name": "ipython",
    "version": 3
   },
   "file_extension": ".py",
   "mimetype": "text/x-python",
   "name": "python",
   "nbconvert_exporter": "python",
   "pygments_lexer": "ipython3",
   "version": "3.8.5"
  }
 },
 "nbformat": 4,
 "nbformat_minor": 4
}
